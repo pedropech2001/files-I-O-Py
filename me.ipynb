{
  "nbformat": 4,
  "nbformat_minor": 0,
  "metadata": {
    "colab": {
      "name": "Untitled1.ipynb",
      "provenance": [],
      "authorship_tag": "ABX9TyOwujs2WjpfF4ra4hrUB0cc",
      "include_colab_link": true
    },
    "kernelspec": {
      "name": "python3",
      "display_name": "Python 3"
    }
  },
  "cells": [
    {
      "cell_type": "markdown",
      "metadata": {
        "id": "view-in-github",
        "colab_type": "text"
      },
      "source": [
        "<a href=\"https://colab.research.google.com/github/pedropech2001/files-I-O-Py/blob/master/me.ipynb\" target=\"_parent\"><img src=\"https://colab.research.google.com/assets/colab-badge.svg\" alt=\"Open In Colab\"/></a>"
      ]
    },
    {
      "cell_type": "code",
      "metadata": {
        "id": "XEgcpZDPn3x0",
        "colab_type": "code",
        "colab": {}
      },
      "source": [
        "#call the file .txt with the command open\n",
        "file = open(\"me.txt\",\"r\")\n",
        "#a bucle for for read and print the lines\n",
        "for line in file:\n",
        "print line,\n",
        "#To close the file\n",
        "file.close()"
      ],
      "execution_count": null,
      "outputs": []
    }
  ]
}