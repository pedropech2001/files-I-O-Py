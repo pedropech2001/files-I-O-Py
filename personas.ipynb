{
  "nbformat": 4,
  "nbformat_minor": 0,
  "metadata": {
    "colab": {
      "name": "Untitled1.ipynb",
      "provenance": [],
      "authorship_tag": "ABX9TyNRkbyTxzsV85pWOV7Tg4fT",
      "include_colab_link": true
    },
    "kernelspec": {
      "name": "python3",
      "display_name": "Python 3"
    }
  },
  "cells": [
    {
      "cell_type": "markdown",
      "metadata": {
        "id": "view-in-github",
        "colab_type": "text"
      },
      "source": [
        "<a href=\"https://colab.research.google.com/github/pedropech2001/files-I-O-Py/blob/master/personas.ipynb\" target=\"_parent\"><img src=\"https://colab.research.google.com/assets/colab-badge.svg\" alt=\"Open In Colab\"/></a>"
      ]
    },
    {
      "cell_type": "code",
      "metadata": {
        "id": "mybCjC-sj1qQ",
        "colab_type": "code",
        "colab": {}
      },
      "source": [
        "from io import open\n",
        "#First  all the file .txt and givw if its for read write\n",
        "order = open('personas.txt','r', encoding=\"utf8\")\n",
        "#pass to a pointer and can read the lines\n",
        "lineas = order.readlines()\n",
        "#close the file\n",
        "order.close()\n",
        "\n",
        "personas = []\n",
        "for linea in lineas:\n",
        "    #eliminate line breaks and spaces\n",
        "    pedro = linea.replace(\"\\n\",\" \").split(\";\")\n",
        "    persona = {\"id\":pedro[0], \"nombre\":pedro[1], \n",
        "               \"apellido\":pedro[2], \"nacimiento\":pedro[3]}\n",
        "    personas.append(persona)\n",
        "#for print\n",
        "for p in personas:\n",
        "    print(\"(id={}) {} {} => {} \".format( p['id'], p['nombre'], \n",
        "                                         p['apellido'], p['nacimiento']) )"
      ],
      "execution_count": null,
      "outputs": []
    }
  ]
}